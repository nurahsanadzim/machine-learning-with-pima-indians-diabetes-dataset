{
  "nbformat": 4,
  "nbformat_minor": 0,
  "metadata": {
    "colab": {
      "name": "machine-learning-with-pima-indians-diabetes-dataset",
      "provenance": [],
      "collapsed_sections": [],
      "authorship_tag": "ABX9TyNxNairvbnDNU5q/T9gEuAA",
      "include_colab_link": true
    },
    "kernelspec": {
      "name": "python3",
      "display_name": "Python 3"
    }
  },
  "cells": [
    {
      "cell_type": "markdown",
      "metadata": {
        "id": "view-in-github",
        "colab_type": "text"
      },
      "source": [
        "<a href=\"https://colab.research.google.com/github/nurahsanadzim/machine-learning-with-pima-indians-diabetes-dataset/blob/main/machine_learning_with_pima_indians_diabetes_dataset.ipynb\" target=\"_parent\"><img src=\"https://colab.research.google.com/assets/colab-badge.svg\" alt=\"Open In Colab\"/></a>"
      ]
    },
    {
      "cell_type": "code",
      "metadata": {
        "id": "2--ELLleAAVA"
      },
      "source": [
        "import numpy\r\n",
        "import pandas\r\n",
        "myarray = numpy.array([[1, 2, 3], [4, 5, 6]])\r\n",
        "rownames = ['a', 'b']\r\n",
        "colnames = ['one', 'two', 'three']\r\n",
        "mydataframe = pandas.DataFrame(myarray, index=rownames, columns=colnames)\r\n",
        "print(mydataframe)"
      ],
      "execution_count": null,
      "outputs": []
    }
  ]
}